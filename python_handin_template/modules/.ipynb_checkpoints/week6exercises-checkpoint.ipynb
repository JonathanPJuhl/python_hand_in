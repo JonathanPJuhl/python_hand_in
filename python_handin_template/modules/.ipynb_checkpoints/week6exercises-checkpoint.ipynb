{
 "cells": [
  {
   "cell_type": "code",
   "execution_count": 1,
   "metadata": {},
   "outputs": [],
   "source": [
    "#1 & # 2\n",
    "import exercise06 as e6\n",
    "#i have done this exercise with only 3 book instead of 10, hope its ok\n",
    "booklist = ['https://www.gutenberg.org/files/84/84-0.txt',\n",
    "           'https://www.gutenberg.org/files/1342/1342-0.txt',\n",
    "           'https://www.gutenberg.org/ebooks/25344.txt.utf-8']\n",
    "comp = e6.TextComparer(booklist)\n",
    "count = 0\n",
    "\n",
    "for book in comp.url_list:\n",
    "    comp.download(book)\n",
    "    count += 1"
   ]
  },
  {
   "cell_type": "code",
   "execution_count": 2,
   "metadata": {},
   "outputs": [
    {
     "data": {
      "text/plain": [
       "['484.txt', '1342.txt', '.txt.txt']"
      ]
     },
     "execution_count": 2,
     "metadata": {},
     "output_type": "execute_result"
    }
   ],
   "source": [
    "#3\n",
    "comp.multi_download(comp.download, comp.url_list, 3)"
   ]
  },
  {
   "cell_type": "code",
   "execution_count": 3,
   "metadata": {},
   "outputs": [
    {
     "name": "stdout",
     "output_type": "stream",
     "text": [
      "[['484.txt', 1.7038606282481248], ['1342.txt', 1.6827229075984578], ['.txt.txt', 1.727954971857411]]\n"
     ]
    }
   ],
   "source": [
    "#7\n",
    "listOfAvg = []\n",
    "for file in comp.multi_download(comp.download, comp.url_list, 3):\n",
    "    listOfAvg.append(comp.avg_vowels(file))\n",
    "    \n",
    "print(listOfAvg)"
   ]
  },
  {
   "cell_type": "code",
   "execution_count": 6,
   "metadata": {},
   "outputs": [
    {
     "name": "stdout",
     "output_type": "stream",
     "text": [
      "['484.txt', '1342.txt', '.txt.txt']\n",
      "[1.7038606282481248, 1.6827229075984578, 1.727954971857411]\n"
     ]
    },
    {
     "data": {
      "image/png": "[encoded data removed]",
      "text/plain": [
       "<Figure size 432x288 with 1 Axes>"
      ]
     },
     "metadata": {
      "needs_background": "light"
     },
     "output_type": "display_data"
    }
   ],
   "source": [
    "#8\n",
    "# cant get this working\n",
    "#hardest = comp.hardest_read(comp.avg_vowels(file), comp.multi_download(comp.download, comp.url_list, 3))\n",
    "#print(hardest)\n",
    "import matplotlib.pyplot as plt\n",
    "#Ex2 3\n",
    "names = []\n",
    "values = []\n",
    "for avg in listOfAvg:\n",
    "    values.append(avg[1])\n",
    "    names.append(avg[0]) \n",
    "print(names)\n",
    "print(values)\n",
    "\n",
    "plt.bar(names, values)\n",
    "plt.xticks(rotation=-90)\n",
    "plt.title('vowels pr book')\n",
    "plt.xlabel('book')\n",
    "plt.ylabel('vowels')\n",
    "plt.show()"
   ]
  },
  {
   "cell_type": "code",
   "execution_count": null,
   "metadata": {},
   "outputs": [],
   "source": []
  }
 ],
 "metadata": {
  "kernelspec": {
   "display_name": "Python 3",
   "language": "python",
   "name": "python3"
  },
  "language_info": {
   "codemirror_mode": {
    "name": "ipython",
    "version": 3
   },
   "file_extension": ".py",
   "mimetype": "text/x-python",
   "name": "python",
   "nbconvert_exporter": "python",
   "pygments_lexer": "ipython3",
   "version": "3.7.6"
  }
 },
 "nbformat": 4,
 "nbformat_minor": 2
}
