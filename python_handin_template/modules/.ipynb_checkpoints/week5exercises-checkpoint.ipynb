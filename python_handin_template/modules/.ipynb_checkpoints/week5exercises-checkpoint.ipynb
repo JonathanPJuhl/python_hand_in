{
 "cells": [
  {
   "cell_type": "code",
   "execution_count": 1,
   "metadata": {},
   "outputs": [
    {
     "name": "stdout",
     "output_type": "stream",
     "text": [
      "Rise in divorces in percent: \n",
      "21.12552105763156\n"
     ]
    },
    {
     "data": {
      "image/png": "[encoded data removed]",
      "text/plain": [
       "<Figure size 432x288 with 1 Axes>"
      ]
     },
     "metadata": {
      "needs_background": "light"
     },
     "output_type": "display_data"
    }
   ],
   "source": [
    "#https://api.statbank.dk/v1/data/FOLK1A/CSV?delimiter=Semicolon&CIVILSTAND=F%2CU%2CG\n",
    "#8\n",
    "import exercise05 as e5\n",
    "import pandas as pd\n",
    "import matplotlib.pyplot as plt\n",
    "\n",
    "e5.ex05().get_file('https://api.statbank.dk/v1/data/FOLK1A/CSV?delimiter=Semicolon&CIVILSTAND=F&Tid=*', 'divorcees.csv')\n",
    "\n",
    "df = e5.ex05().make_df('divorcees.csv')\n",
    "df\n",
    "k08 = df.iloc[0][2] + df.iloc[1][2] + df.iloc[2][2] + df.iloc[3][2]\n",
    "k20 = df.iloc[50][2] + df.iloc[49][2] + df.iloc[48][2] + df.iloc[47][2]\n",
    "print(\"Rise in divorces in percent: \")\n",
    "print(100-k08/k20*100)\n",
    "diff = [k08, k20]\n",
    "names = ['2008', '2020']\n",
    "plt.bar(names, diff)\n",
    "plt.xticks(rotation=-90)\n",
    "plt.title('divorces')\n",
    "plt.xlabel('year')\n",
    "plt.ylabel('divorces')\n",
    "plt.show()"
   ]
  },
  {
   "cell_type": "code",
   "execution_count": 2,
   "metadata": {},
   "outputs": [],
   "source": [
    "#9 dont know how to solve"
   ]
  },
  {
   "cell_type": "code",
   "execution_count": 30,
   "metadata": {},
   "outputs": [
    {
     "data": {
      "image/png": "[encoded data removed]",
      "text/plain": [
       "<Figure size 432x288 with 1 Axes>"
      ]
     },
     "metadata": {
      "needs_background": "light"
     },
     "output_type": "display_data"
    }
   ],
   "source": [
    "import exercise05 as e5\n",
    "import pandas as pd\n",
    "import matplotlib.pyplot as plt\n",
    "import numpy as np\n",
    "\n",
    "e5.ex05().get_file('https://api.statbank.dk/v1/data/FOLK1A/CSV?delimiter=Semicolon&CIVILSTAND=U%2CG%2CE%2CF&Tid=2008K1%2C2009K1%2C2010K1%2C2011K1%2C2012K1%2C2013K1%2C2014K1%2C2015K1%2C2016K1%2C2017K1%2C2018K1%2C2019K1%2C2020K1%2C2021K1', 'maritalStatus.csv')\n",
    "\n",
    "df = e5.ex05().make_df('maritalStatus.csv')\n",
    "ugift = e5.ex05().return_status('Fraskilt', df)\n",
    "gift = e5.ex05().return_status('Gift/separeret', df)\n",
    "\n",
    "#print(ugift.shape)\n",
    "#print(gift.shape)\n",
    "#print(ugift['TID'].array)\n",
    "x_ax = np.arange(len(ugift['TID'].array))\n",
    "\n",
    "plt.bar(x_ax - 0.2, gift['INDHOLD'], 0.4, label=\"gift\")\n",
    "plt.bar(x_ax + 0.2, ugift['INDHOLD'], 0.4,  label ='Fraskilt')\n",
    "plt.xticks(x_ax, ugift['TID'], rotation=-90)\n",
    "plt.title('martial_stat')\n",
    "plt.xlabel('year')\n",
    "plt.ylabel('nr of ppl')\n",
    "plt.legend()\n",
    "plt.show()\n"
   ]
  },
  {
   "cell_type": "code",
   "execution_count": null,
   "metadata": {},
   "outputs": [],
   "source": [
    "\n"
   ]
  },
  {
   "cell_type": "code",
   "execution_count": null,
   "metadata": {},
   "outputs": [],
   "source": []
  }
 ],
 "metadata": {
  "kernelspec": {
   "display_name": "Python 3",
   "language": "python",
   "name": "python3"
  },
  "language_info": {
   "codemirror_mode": {
    "name": "ipython",
    "version": 3
   },
   "file_extension": ".py",
   "mimetype": "text/x-python",
   "name": "python",
   "nbconvert_exporter": "python",
   "pygments_lexer": "ipython3",
   "version": "3.7.6"
  }
 },
 "nbformat": 4,
 "nbformat_minor": 2
}
