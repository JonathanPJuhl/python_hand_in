{
 "cells": [
  {
   "cell_type": "markdown",
   "metadata": {},
   "source": [
    "Exercises week 3:"
   ]
  },
  {
   "cell_type": "code",
   "execution_count": 1,
   "metadata": {
    "scrolled": true
   },
   "outputs": [
    {
     "name": "stdout",
     "output_type": "stream",
     "text": [
      "['Pixi,geo,unisexNameT,female,55,1,2,www.schoolfoto/8135', 'kim,math,unisexNameT,male,59,0,9,www.schoolfoto/7604', 'Jamie,math,PixiT,male,123,1,0,www.schoolfoto/6299', 'unisexName,geo,JamieT,female,85,4,3,www.schoolfoto/3379', 'kim,math,unisexNameT,male,34,5,6,www.schoolfoto/9345', 'Pixi,english,PixiT,male,125,3,9,www.schoolfoto/5207', 'Pixi,geo,unisexNameT,male,0,0,3,www.schoolfoto/492', 'Pixi,math,JamieT,male,119,6,1,www.schoolfoto/7075', 'kim,science,unisexNameT,male,76,6,5,www.schoolfoto/2291']\n"
     ]
    }
   ],
   "source": [
    "#7\n",
    "import exercise03 as e3\n",
    "e3.studentGenerator().create_students_csv(9)"
   ]
  },
  {
   "cell_type": "code",
   "execution_count": 2,
   "metadata": {
    "scrolled": true
   },
   "outputs": [
    {
     "name": "stdout",
     "output_type": "stream",
     "text": [
      "Pixi www.schoolfoto/8135\n",
      " 2.0\n",
      "kim www.schoolfoto/7604\n",
      " 9.0\n",
      "Jamie www.schoolfoto/6299\n",
      " 0.0\n",
      "unisexName www.schoolfoto/3379\n",
      " 3.0\n",
      "kim www.schoolfoto/9345\n",
      " 6.0\n",
      "Pixi www.schoolfoto/5207\n",
      " 9.0\n",
      "Pixi www.schoolfoto/492\n",
      " 3.0\n",
      "Pixi www.schoolfoto/7075\n",
      " 1.0\n",
      "kim www.schoolfoto/2291\n",
      " 5.0\n"
     ]
    },
    {
     "data": {
      "image/png": "[encoded data removed]",
      "text/plain": [
       "<Figure size 432x288 with 1 Axes>"
      ]
     },
     "metadata": {
      "needs_background": "light"
     },
     "output_type": "display_data"
    },
    {
     "name": "stdout",
     "output_type": "stream",
     "text": [
      "etcs progression for Pixi : 36.666666666666664\n",
      "etcs progression for kim : 39.33333333333333\n",
      "etcs progression for Jamie : 82.0\n",
      "etcs progression for unisexName : 56.666666666666664\n",
      "etcs progression for kim : 22.666666666666664\n",
      "etcs progression for Pixi : 83.33333333333334\n",
      "etcs progression for Pixi : 0.0\n",
      "etcs progression for Pixi : 79.33333333333333\n",
      "etcs progression for kim : 50.66666666666667\n"
     ]
    },
    {
     "data": {
      "image/png": "[encoded data removed]",
      "text/plain": [
       "<Figure size 432x288 with 1 Axes>"
      ]
     },
     "metadata": {
      "needs_background": "light"
     },
     "output_type": "display_data"
    }
   ],
   "source": [
    "#8 & 9 & 10\n",
    "# I know the data in this one isn't very representative of reality, but the functions do what they're supposed to for the most part\n",
    "e3.read_from_csv().read(\"students_week3.csv\")"
   ]
  },
  {
   "cell_type": "code",
   "execution_count": null,
   "metadata": {},
   "outputs": [],
   "source": []
  }
 ],
 "metadata": {
  "kernelspec": {
   "display_name": "Python 3",
   "language": "python",
   "name": "python3"
  },
  "language_info": {
   "codemirror_mode": {
    "name": "ipython",
    "version": 3
   },
   "file_extension": ".py",
   "mimetype": "text/x-python",
   "name": "python",
   "nbconvert_exporter": "python",
   "pygments_lexer": "ipython3",
   "version": "3.7.6"
  }
 },
 "nbformat": 4,
 "nbformat_minor": 2
}
