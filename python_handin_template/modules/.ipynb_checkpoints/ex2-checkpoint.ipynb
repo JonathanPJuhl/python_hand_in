{
 "cells": [
  {
   "cell_type": "code",
   "execution_count": 1,
   "metadata": {},
   "outputs": [],
   "source": [
    "import exercise02 as e2\n",
    "list2 = [\"a\", \"b\"]\n",
    "e2.ex2.write_list_to_file(\"hej.csv\", list2)"
   ]
  },
  {
   "cell_type": "code",
   "execution_count": 2,
   "metadata": {},
   "outputs": [
    {
     "name": "stdout",
     "output_type": "stream",
     "text": [
      "['a\\n']\n",
      "['b\\n']\n"
     ]
    }
   ],
   "source": [
    "e2.ex2.print_file_content(\"hej.csv\")"
   ]
  },
  {
   "cell_type": "code",
   "execution_count": 3,
   "metadata": {},
   "outputs": [
    {
     "name": "stdout",
     "output_type": "stream",
     "text": [
      "[['a\\n'], 'b\\n']\n"
     ]
    }
   ],
   "source": [
    "e2.ex2.read_csv(\"hej.csv\")"
   ]
  },
  {
   "cell_type": "code",
   "execution_count": 4,
   "metadata": {},
   "outputs": [],
   "source": [
    "import os\n",
    "e2.ex2.get_file_names(os.getcwd(), \"filenames.txt\")"
   ]
  },
  {
   "cell_type": "code",
   "execution_count": 7,
   "metadata": {},
   "outputs": [
    {
     "name": "stdout",
     "output_type": "stream",
     "text": [
      "/home/jovyan/myNotebooks/python_handin_template/modules\n"
     ]
    }
   ],
   "source": [
    "from pathlib import Path\n",
    "print(os.getcwd())\n",
    "path = Path(\"/home/jovyan/myNotebooks/\")\n",
    "e2.ex2.get_all_file_names(path, \"filenamesRecursive.txt\")"
   ]
  },
  {
   "cell_type": "code",
   "execution_count": null,
   "metadata": {},
   "outputs": [],
   "source": []
  }
 ],
 "metadata": {
  "interpreter": {
   "hash": "31f2aee4e71d21fbe5cf8b01ff0e069b9275f58929596ceb00d14d90e3e16cd6"
  },
  "kernelspec": {
   "display_name": "Python 3",
   "language": "python",
   "name": "python3"
  },
  "language_info": {
   "codemirror_mode": {
    "name": "ipython",
    "version": 3
   },
   "file_extension": ".py",
   "mimetype": "text/x-python",
   "name": "python",
   "nbconvert_exporter": "python",
   "pygments_lexer": "ipython3",
   "version": "3.7.6"
  }
 },
 "nbformat": 4,
 "nbformat_minor": 2
}
